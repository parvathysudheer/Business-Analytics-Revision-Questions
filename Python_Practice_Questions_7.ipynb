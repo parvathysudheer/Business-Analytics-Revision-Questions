{
  "nbformat": 4,
  "nbformat_minor": 0,
  "metadata": {
    "colab": {
      "provenance": []
    },
    "kernelspec": {
      "name": "python3",
      "display_name": "Python 3"
    },
    "language_info": {
      "name": "python"
    }
  },
  "cells": [
    {
      "cell_type": "code",
      "execution_count": 10,
      "metadata": {
        "id": "i5ifaqVSYf2x"
      },
      "outputs": [],
      "source": [
        "x=[67,99,86,54,34,66,76,86,44,91]\n",
        "def num(x):\n",
        "  print(\"Sum : \",sum(x))"
      ]
    },
    {
      "cell_type": "code",
      "source": [
        "num(x)"
      ],
      "metadata": {
        "colab": {
          "base_uri": "https://localhost:8080/"
        },
        "id": "PgZQFkPdZ86X",
        "outputId": "a46d220d-80c3-4683-9f74-8c23df63ea4f"
      },
      "execution_count": 9,
      "outputs": [
        {
          "output_type": "stream",
          "name": "stdout",
          "text": [
            "Sum :  703\n"
          ]
        }
      ]
    },
    {
      "cell_type": "code",
      "source": [
        "def oddeven(x):\n",
        "  x=[2,4,6,8,3,5,7,9,10,13]\n",
        "  odd=[]\n",
        "  even=[]\n",
        "  for i in x:\n",
        "    if(i%2==0):\n",
        "      even.append(i)\n",
        "    else:\n",
        "      odd.append(i)\n",
        "  print(\"Sum of odd numbers : \",sum(odd))\n",
        "  print(\"Sum of even numbers : \",sum(even))"
      ],
      "metadata": {
        "id": "6sbUdksPaCdK"
      },
      "execution_count": 19,
      "outputs": []
    },
    {
      "cell_type": "code",
      "source": [
        "oddeven(x)"
      ],
      "metadata": {
        "colab": {
          "base_uri": "https://localhost:8080/"
        },
        "id": "r4O8UjR7b9yk",
        "outputId": "164ae615-78fd-4376-e25d-6157b3f2cd89"
      },
      "execution_count": 20,
      "outputs": [
        {
          "output_type": "stream",
          "name": "stdout",
          "text": [
            "Sum of odd numbers :  37\n",
            "Sum of even numbers :  30\n"
          ]
        }
      ]
    },
    {
      "cell_type": "code",
      "source": [
        "a=\"Python is a general-purpose, versatile, and powerful programming language.\"\n",
        "b=''\n",
        "vowels=['a','e','i','o','u']\n",
        "for i in range(len(a)):\n",
        "    if a[i] not in vowels:\n",
        "      b=b+a[i] \n",
        "print(b)"
      ],
      "metadata": {
        "colab": {
          "base_uri": "https://localhost:8080/"
        },
        "id": "x6aZbVlFb_dC",
        "outputId": "07fb260e-bfe8-4ef2-af2f-ec9954f644e6"
      },
      "execution_count": 29,
      "outputs": [
        {
          "output_type": "stream",
          "name": "stdout",
          "text": [
            "Pythn s  gnrl-prps, vrstl, nd pwrfl prgrmmng lngg.\n"
          ]
        }
      ]
    },
    {
      "cell_type": "code",
      "source": [],
      "metadata": {
        "id": "l0dQfRizsM2P"
      },
      "execution_count": null,
      "outputs": []
    }
  ]
}