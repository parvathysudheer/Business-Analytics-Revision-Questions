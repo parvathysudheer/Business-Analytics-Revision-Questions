{
  "nbformat": 4,
  "nbformat_minor": 0,
  "metadata": {
    "colab": {
      "provenance": []
    },
    "kernelspec": {
      "name": "python3",
      "display_name": "Python 3"
    },
    "language_info": {
      "name": "python"
    }
  },
  "cells": [
    {
      "cell_type": "code",
      "execution_count": null,
      "metadata": {
        "id": "sbMGd8NFMq8b"
      },
      "outputs": [],
      "source": [
        "def PARVATHY():\n",
        "  print(\"India is my country\")"
      ]
    },
    {
      "cell_type": "code",
      "source": [
        "PARVATHY()"
      ],
      "metadata": {
        "colab": {
          "base_uri": "https://localhost:8080/"
        },
        "id": "Hmx0_CivPopC",
        "outputId": "756a5c71-c924-4338-f144-bbcebeb7a092"
      },
      "execution_count": null,
      "outputs": [
        {
          "output_type": "stream",
          "name": "stdout",
          "text": [
            "India is my country\n"
          ]
        }
      ]
    },
    {
      "cell_type": "code",
      "source": [
        "def PARVATHY():\n",
        "  print(\"Your roll number is\" , 10)"
      ],
      "metadata": {
        "id": "TCnrEKIiPr3P"
      },
      "execution_count": null,
      "outputs": []
    },
    {
      "cell_type": "code",
      "source": [
        "PARVATHY()"
      ],
      "metadata": {
        "colab": {
          "base_uri": "https://localhost:8080/"
        },
        "id": "qpY-P76TQ1Y_",
        "outputId": "2f2c1ed9-5d4b-4a7b-83e3-ac416cf29f67"
      },
      "execution_count": null,
      "outputs": [
        {
          "output_type": "stream",
          "name": "stdout",
          "text": [
            "Your roll number is 10\n"
          ]
        }
      ]
    },
    {
      "cell_type": "code",
      "source": [
        "x=int(input(\"Enter your roll number : \"))\n",
        "def Enitta():\n",
        "  print(\"Your roll number is\",x)\n",
        "Enitta()"
      ],
      "metadata": {
        "colab": {
          "base_uri": "https://localhost:8080/"
        },
        "id": "zWPZxISfQ47W",
        "outputId": "8948b03d-99ee-419e-b1ac-cd9079ace9e2"
      },
      "execution_count": null,
      "outputs": [
        {
          "output_type": "stream",
          "name": "stdout",
          "text": [
            "Enter your roll number : 25\n",
            "Your roll number is 25\n"
          ]
        }
      ]
    },
    {
      "cell_type": "code",
      "source": [
        "a=input(\"Enter your name : \")\n",
        "x=int(input(\"Enter your roll number : \"))\n",
        "y=input(\"Enter your mail id : \")\n",
        "z=input(\"Enter your place : \")\n",
        "def Enitta(a,x,y,z):\n",
        "  print(\"Name : \",a)\n",
        "  print(\"Roll number is\",x)\n",
        "  print(\"Mail id : \",y)\n",
        "  print(\"Place : \",z)\n",
        "Enitta(a,x,y,z)"
      ],
      "metadata": {
        "colab": {
          "base_uri": "https://localhost:8080/"
        },
        "id": "2dwgTSAjRE9u",
        "outputId": "a2154bdb-925c-4a93-aa83-6ed51b7ec3a5"
      },
      "execution_count": null,
      "outputs": [
        {
          "output_type": "stream",
          "name": "stdout",
          "text": [
            "Enter your name : Enitta\n",
            "Enter your roll number : 13\n",
            "Enter your mail id : enitta@gmail.com\n",
            "Enter your place : Thrippunithra\n",
            "Name :  Enitta\n",
            "Roll number is 13\n",
            "Mail id :  enitta@gmail.com\n",
            "Place :  Thrippunithra\n"
          ]
        }
      ]
    },
    {
      "cell_type": "code",
      "source": [
        "d=[]\n",
        "a=input(\"Enter your full name : \")\n",
        "def First(a):\n",
        "  print(a[0:8])\n",
        "def Second(a):\n",
        "  print(a[9:16])\n",
        "First(a)\n",
        "Second(a)"
      ],
      "metadata": {
        "id": "0tn1coHAS2x6",
        "colab": {
          "base_uri": "https://localhost:8080/"
        },
        "outputId": "60e182aa-db7e-4b13-ba92-57b9982e8cf6"
      },
      "execution_count": 7,
      "outputs": [
        {
          "name": "stdout",
          "output_type": "stream",
          "text": [
            "Enter your full name : Parvathy Sudheer\n"
          ]
        }
      ]
    },
    {
      "cell_type": "code",
      "source": [
        "First(a)\n",
        "Second(a)"
      ],
      "metadata": {
        "id": "DuECwfH1Unwy",
        "colab": {
          "base_uri": "https://localhost:8080/"
        },
        "outputId": "205a9935-9e5e-4b1a-b35a-dbf2dc658e15"
      },
      "execution_count": 10,
      "outputs": [
        {
          "output_type": "stream",
          "name": "stdout",
          "text": [
            "Parvathy\n",
            "Sudheer\n"
          ]
        }
      ]
    },
    {
      "cell_type": "code",
      "source": [
        "def namei():\n",
        "  y=x.split()\n",
        "  print(\"Your 1st name is:\",y[0])\n",
        "  print(\"Your 2nd name is:\",y[1])\n",
        "x=input(\"Enter full name \")\n",
        "namei()"
      ],
      "metadata": {
        "colab": {
          "base_uri": "https://localhost:8080/"
        },
        "id": "s1Eim_Rrbyhm",
        "outputId": "06011a79-d1e7-4885-a95e-c8c3f6d12123"
      },
      "execution_count": 24,
      "outputs": [
        {
          "output_type": "stream",
          "name": "stdout",
          "text": [
            "Enter full name Parvathy Sudheer\n",
            "Your 1st name is: Parvathy\n",
            "Your 2nd name is: Sudheer\n"
          ]
        }
      ]
    },
    {
      "cell_type": "code",
      "source": [
        "d=[]\n",
        "a=int(input(\"Enter the First number : \"))\n",
        "b=int(input(\"Enter the Second number : \"))\n",
        "def swap(a,b):\n",
        "  print(b,a)"
      ],
      "metadata": {
        "colab": {
          "base_uri": "https://localhost:8080/"
        },
        "id": "Zmj4K-Etd-lK",
        "outputId": "36f51f00-1d66-4c5f-ed1a-63fab8bc4229"
      },
      "execution_count": 26,
      "outputs": [
        {
          "name": "stdout",
          "output_type": "stream",
          "text": [
            "Enter the First number : 8\n",
            "Enter the Second number : 5\n"
          ]
        }
      ]
    },
    {
      "cell_type": "code",
      "source": [
        "swap(a,b)"
      ],
      "metadata": {
        "colab": {
          "base_uri": "https://localhost:8080/"
        },
        "id": "0BYpdisdjCuC",
        "outputId": "16b2f70d-e2b4-41b5-d1fc-eb2f24381c44"
      },
      "execution_count": 27,
      "outputs": [
        {
          "output_type": "stream",
          "name": "stdout",
          "text": [
            "5 8\n"
          ]
        }
      ]
    },
    {
      "cell_type": "code",
      "source": [],
      "metadata": {
        "id": "Sc3EzgjRkZ0E"
      },
      "execution_count": null,
      "outputs": []
    }
  ]
}