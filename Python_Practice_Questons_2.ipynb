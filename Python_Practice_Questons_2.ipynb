{
  "nbformat": 4,
  "nbformat_minor": 0,
  "metadata": {
    "colab": {
      "provenance": []
    },
    "kernelspec": {
      "name": "python3",
      "display_name": "Python 3"
    },
    "language_info": {
      "name": "python"
    }
  },
  "cells": [
    {
      "cell_type": "code",
      "execution_count": 6,
      "metadata": {
        "colab": {
          "base_uri": "https://localhost:8080/"
        },
        "id": "qh5y2JxADVr_",
        "outputId": "199740f3-fa22-48a5-bf3a-14e2ea741680"
      },
      "outputs": [
        {
          "name": "stdout",
          "output_type": "stream",
          "text": [
            "Enter yours marks : 100\n"
          ]
        }
      ],
      "source": [
        "x=int (input(\"Enter yours marks : \"))"
      ]
    },
    {
      "cell_type": "code",
      "source": [
        "if x>50 : \n",
        "  print(\" You are passed\")\n",
        "if x<50 :\n",
        "  print(\" You are failed\")\n"
      ],
      "metadata": {
        "colab": {
          "base_uri": "https://localhost:8080/"
        },
        "id": "H5L7xSp4ERzw",
        "outputId": "5657c65e-f115-457b-d7b6-ac5b4306661d"
      },
      "execution_count": 7,
      "outputs": [
        {
          "output_type": "stream",
          "name": "stdout",
          "text": [
            " You are passed\n"
          ]
        }
      ]
    },
    {
      "cell_type": "code",
      "source": [
        "x=int (input(\"Enter yours marks : \"))"
      ],
      "metadata": {
        "colab": {
          "base_uri": "https://localhost:8080/"
        },
        "id": "wKZXd4LYE_tw",
        "outputId": "ce5847a9-38d8-4c0b-ab44-14cc4b5551ad"
      },
      "execution_count": 8,
      "outputs": [
        {
          "name": "stdout",
          "output_type": "stream",
          "text": [
            "Enter yours marks : 50\n"
          ]
        }
      ]
    },
    {
      "cell_type": "code",
      "source": [
        "if x==50 :\n",
        "  print(\" You are just pass\")"
      ],
      "metadata": {
        "colab": {
          "base_uri": "https://localhost:8080/"
        },
        "id": "2QYMHBJNGGj8",
        "outputId": "7a1b4ce3-21ca-4539-f0ff-d982a5c73f0f"
      },
      "execution_count": 10,
      "outputs": [
        {
          "output_type": "stream",
          "name": "stdout",
          "text": [
            " You are just pass\n"
          ]
        }
      ]
    },
    {
      "cell_type": "code",
      "source": [
        "x= int(input(\" ENTER YOUR SALARY : \"))\n",
        "if x>250000 :\n",
        "  print(\"YOU ARE TAXABLE\")\n",
        "  print(\"YOUR TAXABLE AMOUNT IS : \" , (x-250000)*10/100)\n",
        "if x<250000 :\n",
        "  print(\"YOU ARE NOT TAXABLE\")\n"
      ],
      "metadata": {
        "colab": {
          "base_uri": "https://localhost:8080/"
        },
        "id": "jUEaGlWhGOdN",
        "outputId": "2a9c9ed2-b7df-4816-cb9a-3143e5ae11d4"
      },
      "execution_count": 22,
      "outputs": [
        {
          "output_type": "stream",
          "name": "stdout",
          "text": [
            " ENTER YOUR SALARY : 300000\n",
            "YOU ARE TAXABLE\n",
            "YOUR TAXABLE AMOUNT IS :  5000.0\n"
          ]
        }
      ]
    },
    {
      "cell_type": "code",
      "source": [
        "x= int(input(\" ENTER YOUR SALARY : \"))\n",
        "if x<=250000 :\n",
        "  print(\"YOU ARE NOT TAXABLE\")\n",
        "if x>250000 and x<=500000:\n",
        "  print(\"YOUR TAXABLE AMOUNT IS : \" , (x-250000)*5/100)\n",
        "if x>500000 and x<=750000:\n",
        "  print(\"YOUR TAXABLE AMOUNT IS : \" , (x-500000)*10/100)\n",
        "if x>750000 and x<=1000000:\n",
        "  print(\"YOUR TAXABLE AMOUNT IS : \" , (x-750000)*15/100)\n",
        "if x>1000000 and x<=1250000:\n",
        "  print(\"YOUR TAXABLE AMOUNT IS : \" , (x-1000000)*20/100)\n",
        "if x>1250000 and x<=1500000:\n",
        "  print(\"YOUR TAXABLE AMOUNT IS : \" , (x-1250000)*25/100)\n",
        "if x>1500000 :\n",
        "  print(\"YOUR TAXABLE AMOUNT IS : \" , (x-1500000)*30/100)\n"
      ],
      "metadata": {
        "colab": {
          "base_uri": "https://localhost:8080/"
        },
        "id": "sr9rKN_RHWRY",
        "outputId": "1824f4d0-ab93-4a30-dee0-9e10065c915a"
      },
      "execution_count": 24,
      "outputs": [
        {
          "output_type": "stream",
          "name": "stdout",
          "text": [
            " ENTER YOUR SALARY : 2000000\n",
            "YOUR TAXABLE AMOUNT IS :  150000.0\n"
          ]
        }
      ]
    },
    {
      "cell_type": "code",
      "source": [],
      "metadata": {
        "id": "G9HlyavWHm3w"
      },
      "execution_count": null,
      "outputs": []
    }
  ]
}