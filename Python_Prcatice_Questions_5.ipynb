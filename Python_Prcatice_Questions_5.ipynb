{
  "nbformat": 4,
  "nbformat_minor": 0,
  "metadata": {
    "colab": {
      "provenance": []
    },
    "kernelspec": {
      "name": "python3",
      "display_name": "Python 3"
    },
    "language_info": {
      "name": "python"
    }
  },
  "cells": [
    {
      "cell_type": "code",
      "execution_count": 4,
      "metadata": {
        "colab": {
          "base_uri": "https://localhost:8080/"
        },
        "id": "pIvKGXpitrKk",
        "outputId": "237fabf2-2071-4233-fce2-6c1769cf61f5"
      },
      "outputs": [
        {
          "output_type": "execute_result",
          "data": {
            "text/plain": [
              "16"
            ]
          },
          "metadata": {},
          "execution_count": 4
        }
      ],
      "source": [
        "x=\"Parvathy Sudheer\"\n",
        "len(x)"
      ]
    },
    {
      "cell_type": "code",
      "source": [
        "x=[\"John\", \"Mary\",\"David\",\"Adam\"]\n",
        "len(x)"
      ],
      "metadata": {
        "colab": {
          "base_uri": "https://localhost:8080/"
        },
        "id": "oiCSNm7KuqMi",
        "outputId": "fa75e87a-ea25-4c8d-b96c-1a934284d877"
      },
      "execution_count": 5,
      "outputs": [
        {
          "output_type": "execute_result",
          "data": {
            "text/plain": [
              "4"
            ]
          },
          "metadata": {},
          "execution_count": 5
        }
      ]
    },
    {
      "cell_type": "code",
      "source": [
        "type(x)"
      ],
      "metadata": {
        "colab": {
          "base_uri": "https://localhost:8080/"
        },
        "id": "-hy2ZxNJv0Bx",
        "outputId": "fd2bdba5-24a1-4722-88d0-e877bdbead9c"
      },
      "execution_count": 6,
      "outputs": [
        {
          "output_type": "execute_result",
          "data": {
            "text/plain": [
              "list"
            ]
          },
          "metadata": {},
          "execution_count": 6
        }
      ]
    },
    {
      "cell_type": "code",
      "source": [
        "x"
      ],
      "metadata": {
        "colab": {
          "base_uri": "https://localhost:8080/"
        },
        "id": "15OxysU4wZ0p",
        "outputId": "59901a46-0742-432d-a996-bacd53f008cc"
      },
      "execution_count": 7,
      "outputs": [
        {
          "output_type": "execute_result",
          "data": {
            "text/plain": [
              "['John', 'Mary', 'David', 'Adam']"
            ]
          },
          "metadata": {},
          "execution_count": 7
        }
      ]
    },
    {
      "cell_type": "code",
      "source": [
        "y=[\"Parvathy Sudheer\",19,\"17-05-2003\",\"Kochi\"]\n",
        "y"
      ],
      "metadata": {
        "colab": {
          "base_uri": "https://localhost:8080/"
        },
        "id": "dtb9r-7gwbjO",
        "outputId": "f4c4e4a7-75e4-4c5a-c591-87913797922a"
      },
      "execution_count": 9,
      "outputs": [
        {
          "output_type": "execute_result",
          "data": {
            "text/plain": [
              "['Parvathy Sudheer', 19, '17-05-2003', 'Kochi']"
            ]
          },
          "metadata": {},
          "execution_count": 9
        }
      ]
    },
    {
      "cell_type": "code",
      "source": [
        "type(x)"
      ],
      "metadata": {
        "colab": {
          "base_uri": "https://localhost:8080/"
        },
        "id": "XABjYwVDwtSj",
        "outputId": "2f9949cc-154e-46e2-a371-ea467a1fc830"
      },
      "execution_count": 10,
      "outputs": [
        {
          "output_type": "execute_result",
          "data": {
            "text/plain": [
              "list"
            ]
          },
          "metadata": {},
          "execution_count": 10
        }
      ]
    },
    {
      "cell_type": "code",
      "source": [
        "x[0]"
      ],
      "metadata": {
        "colab": {
          "base_uri": "https://localhost:8080/",
          "height": 36
        },
        "id": "Iv1Kxwbjw5IH",
        "outputId": "9abec1d1-4520-4589-83f2-c3bd1381d55e"
      },
      "execution_count": 11,
      "outputs": [
        {
          "output_type": "execute_result",
          "data": {
            "text/plain": [
              "'John'"
            ],
            "application/vnd.google.colaboratory.intrinsic+json": {
              "type": "string"
            }
          },
          "metadata": {},
          "execution_count": 11
        }
      ]
    },
    {
      "cell_type": "code",
      "source": [
        "y[3]"
      ],
      "metadata": {
        "colab": {
          "base_uri": "https://localhost:8080/",
          "height": 36
        },
        "id": "4zI7K02bw7WD",
        "outputId": "2b7550a6-7cfa-4b46-95e7-5c9ffef927d7"
      },
      "execution_count": 12,
      "outputs": [
        {
          "output_type": "execute_result",
          "data": {
            "text/plain": [
              "'Kochi'"
            ],
            "application/vnd.google.colaboratory.intrinsic+json": {
              "type": "string"
            }
          },
          "metadata": {},
          "execution_count": 12
        }
      ]
    },
    {
      "cell_type": "code",
      "source": [
        "x[-1]"
      ],
      "metadata": {
        "colab": {
          "base_uri": "https://localhost:8080/",
          "height": 36
        },
        "id": "HgKKjpkQxDyb",
        "outputId": "7c699633-2f97-4299-c61a-d29c17b14aab"
      },
      "execution_count": 13,
      "outputs": [
        {
          "output_type": "execute_result",
          "data": {
            "text/plain": [
              "'Adam'"
            ],
            "application/vnd.google.colaboratory.intrinsic+json": {
              "type": "string"
            }
          },
          "metadata": {},
          "execution_count": 13
        }
      ]
    },
    {
      "cell_type": "code",
      "source": [
        "z=[7,9,0,7,66,88,77,200,780]\n",
        "z"
      ],
      "metadata": {
        "colab": {
          "base_uri": "https://localhost:8080/"
        },
        "id": "aOJVbiPWxdYb",
        "outputId": "03f98ed8-00ab-4754-eac0-719f03c395a1"
      },
      "execution_count": 14,
      "outputs": [
        {
          "output_type": "execute_result",
          "data": {
            "text/plain": [
              "[7, 9, 0, 7, 66, 88, 77, 200, 780]"
            ]
          },
          "metadata": {},
          "execution_count": 14
        }
      ]
    },
    {
      "cell_type": "code",
      "source": [
        "x[0:3]"
      ],
      "metadata": {
        "colab": {
          "base_uri": "https://localhost:8080/"
        },
        "id": "bXAFx771xwft",
        "outputId": "c0889930-8494-4fe6-c89c-812b53b82bb0"
      },
      "execution_count": 16,
      "outputs": [
        {
          "output_type": "execute_result",
          "data": {
            "text/plain": [
              "['John', 'Mary', 'David']"
            ]
          },
          "metadata": {},
          "execution_count": 16
        }
      ]
    },
    {
      "cell_type": "code",
      "source": [
        "z[6:10]"
      ],
      "metadata": {
        "colab": {
          "base_uri": "https://localhost:8080/"
        },
        "id": "shmdmogYyeAS",
        "outputId": "34bb8259-03ae-4392-b5d1-b5c324c8676c"
      },
      "execution_count": 19,
      "outputs": [
        {
          "output_type": "execute_result",
          "data": {
            "text/plain": [
              "[77, 200, 780]"
            ]
          },
          "metadata": {},
          "execution_count": 19
        }
      ]
    },
    {
      "cell_type": "code",
      "source": [
        "z[-3:]"
      ],
      "metadata": {
        "colab": {
          "base_uri": "https://localhost:8080/"
        },
        "id": "CsoHD0Iyy097",
        "outputId": "f6f60113-89b7-46a0-bb5b-d457e181c7bb"
      },
      "execution_count": 21,
      "outputs": [
        {
          "output_type": "execute_result",
          "data": {
            "text/plain": [
              "[77, 200, 780]"
            ]
          },
          "metadata": {},
          "execution_count": 21
        }
      ]
    },
    {
      "cell_type": "code",
      "source": [
        "x=[7, 9, 0, 7, 66, 88, 77, 200, 780]\n",
        "x[0]=400"
      ],
      "metadata": {
        "id": "_tEQavLh0UDh"
      },
      "execution_count": 22,
      "outputs": []
    },
    {
      "cell_type": "code",
      "source": [
        "x"
      ],
      "metadata": {
        "colab": {
          "base_uri": "https://localhost:8080/"
        },
        "id": "mal8Q-Us1XvN",
        "outputId": "400c2b1c-2055-45b1-ba1f-5cc05d875ff8"
      },
      "execution_count": 23,
      "outputs": [
        {
          "output_type": "execute_result",
          "data": {
            "text/plain": [
              "[400, 9, 0, 7, 66, 88, 77, 200, 780]"
            ]
          },
          "metadata": {},
          "execution_count": 23
        }
      ]
    },
    {
      "cell_type": "code",
      "source": [
        "y=[\"Parvathy Sudheer\",19,\"17-05-2003\",\"Rajagiri\"]\n",
        "y"
      ],
      "metadata": {
        "colab": {
          "base_uri": "https://localhost:8080/"
        },
        "id": "CIUNDra01eP5",
        "outputId": "90156f60-7976-4565-a68b-82d728570c54"
      },
      "execution_count": 24,
      "outputs": [
        {
          "output_type": "execute_result",
          "data": {
            "text/plain": [
              "['Parvathy Sudheer', 19, '17-05-2003', 'Rajagiri']"
            ]
          },
          "metadata": {},
          "execution_count": 24
        }
      ]
    },
    {
      "cell_type": "code",
      "source": [
        "x=[3,6,9,12]\n",
        "x.append(69)"
      ],
      "metadata": {
        "id": "faf8RjrY1y9U"
      },
      "execution_count": 25,
      "outputs": []
    },
    {
      "cell_type": "code",
      "source": [
        "x"
      ],
      "metadata": {
        "colab": {
          "base_uri": "https://localhost:8080/"
        },
        "id": "eDTz4o_i3fJR",
        "outputId": "785fd93c-0590-4263-eabe-43eb9915ccd2"
      },
      "execution_count": 26,
      "outputs": [
        {
          "output_type": "execute_result",
          "data": {
            "text/plain": [
              "[3, 6, 9, 12, 69]"
            ]
          },
          "metadata": {},
          "execution_count": 26
        }
      ]
    },
    {
      "cell_type": "code",
      "source": [
        "x=[]\n",
        "for i in range(6):\n",
        "  a=(input(\"Enter your name : \"))\n",
        "  x.append(a)"
      ],
      "metadata": {
        "colab": {
          "base_uri": "https://localhost:8080/"
        },
        "id": "3_yn9LQM3gCO",
        "outputId": "ebcc8c60-547d-494d-c533-6d926eafce46"
      },
      "execution_count": 31,
      "outputs": [
        {
          "name": "stdout",
          "output_type": "stream",
          "text": [
            "Enter your name : Angel\n",
            "Enter your name : Enitta\n",
            "Enter your name : Nidhi\n",
            "Enter your name : Parvathy\n",
            "Enter your name : Ridha\n",
            "Enter your name : Tia\n"
          ]
        }
      ]
    },
    {
      "cell_type": "code",
      "source": [
        "x"
      ],
      "metadata": {
        "colab": {
          "base_uri": "https://localhost:8080/"
        },
        "id": "ADcqVHOY4Pid",
        "outputId": "85d114a4-5e8f-451a-966f-c0d5c5c934ce"
      },
      "execution_count": 32,
      "outputs": [
        {
          "output_type": "execute_result",
          "data": {
            "text/plain": [
              "['Angel', 'Enitta', 'Nidhi', 'Parvathy', 'Ridha', 'Tia']"
            ]
          },
          "metadata": {},
          "execution_count": 32
        }
      ]
    },
    {
      "cell_type": "code",
      "source": [
        "x=['Angel', 'Enitta', 'Nidhi', 'Parvathy', 'Ridha', 'Tia']\n",
        "y=x.copy()\n",
        "print(y)"
      ],
      "metadata": {
        "colab": {
          "base_uri": "https://localhost:8080/"
        },
        "id": "H-UKNI1j5k8M",
        "outputId": "817712df-c4b0-43bc-cc9c-b637b47622ba"
      },
      "execution_count": 33,
      "outputs": [
        {
          "output_type": "stream",
          "name": "stdout",
          "text": [
            "['Angel', 'Enitta', 'Nidhi', 'Parvathy', 'Ridha', 'Tia']\n"
          ]
        }
      ]
    },
    {
      "cell_type": "code",
      "source": [
        "x=['John', 'Mary', 'David', 'Adam']\n",
        "y=[\"A\",\"B\",\"C\",\"D\"]\n",
        "x.extend(y)\n",
        "x"
      ],
      "metadata": {
        "colab": {
          "base_uri": "https://localhost:8080/"
        },
        "id": "YXATrRTi9Ssn",
        "outputId": "88711626-9bd4-43fd-c07d-c5db243e507d"
      },
      "execution_count": 34,
      "outputs": [
        {
          "output_type": "execute_result",
          "data": {
            "text/plain": [
              "['John', 'Mary', 'David', 'Adam', 'A', 'B', 'C', 'D']"
            ]
          },
          "metadata": {},
          "execution_count": 34
        }
      ]
    },
    {
      "cell_type": "code",
      "source": [
        "x=['Angel', 'Enitta', 'Nidhi', 'Parvathy', 'Ridha', 'Tia']\n",
        "x.count(\"Angel\")"
      ],
      "metadata": {
        "colab": {
          "base_uri": "https://localhost:8080/"
        },
        "id": "6Fk6TDuK-g0g",
        "outputId": "aa03ab11-3ddc-49d1-fcda-8d4284ca2eb0"
      },
      "execution_count": 37,
      "outputs": [
        {
          "output_type": "execute_result",
          "data": {
            "text/plain": [
              "1"
            ]
          },
          "metadata": {},
          "execution_count": 37
        }
      ]
    },
    {
      "cell_type": "code",
      "source": [
        "x=['Angel', 'Enitta', 'Nidhi', 'Parvathy', 'Ridha', 'Tia']\n",
        "x[1:3]=[\"Elizebeth\",\"Jency\"]\n",
        "print(x)"
      ],
      "metadata": {
        "colab": {
          "base_uri": "https://localhost:8080/"
        },
        "id": "gzWUWHTr--ix",
        "outputId": "2960a1f7-cba2-489d-aa4c-f9080e74f461"
      },
      "execution_count": 43,
      "outputs": [
        {
          "output_type": "stream",
          "name": "stdout",
          "text": [
            "['Angel', 'Elizebeth', 'Jency', 'Parvathy', 'Ridha', 'Tia']\n"
          ]
        }
      ]
    },
    {
      "cell_type": "code",
      "source": [
        "x=['Angel', 'Enitta', 'Nidhi', 'Parvathy', 'Ridha', 'Tia']\n",
        "x.insert(1,\"Jerry\")\n",
        "print(x)"
      ],
      "metadata": {
        "colab": {
          "base_uri": "https://localhost:8080/"
        },
        "id": "t3Of_F5mAqLZ",
        "outputId": "5bc991f1-0898-48e3-d934-7df9561224fa"
      },
      "execution_count": 45,
      "outputs": [
        {
          "output_type": "stream",
          "name": "stdout",
          "text": [
            "['Angel', 'Jerry', 'Enitta', 'Nidhi', 'Parvathy', 'Ridha', 'Tia']\n"
          ]
        }
      ]
    },
    {
      "cell_type": "code",
      "source": [
        "x=['Angel', 'Enitta', 'Nidhi', 'Parvathy', 'Ridha', 'Tia']\n",
        "x.remove(\"Tia\")\n",
        "print(x)"
      ],
      "metadata": {
        "colab": {
          "base_uri": "https://localhost:8080/"
        },
        "id": "UUFbKVKQCCy8",
        "outputId": "4caf17e6-5776-4574-9056-96f17d8c2715"
      },
      "execution_count": 46,
      "outputs": [
        {
          "output_type": "stream",
          "name": "stdout",
          "text": [
            "['Angel', 'Enitta', 'Nidhi', 'Parvathy', 'Ridha']\n"
          ]
        }
      ]
    },
    {
      "cell_type": "code",
      "source": [
        "x=['Angel', 'Enitta', 'Nidhi', 'Parvathy', 'Ridha', 'Tia']\n",
        "del x[0]\n",
        "del x[-1]\n",
        "print(x)"
      ],
      "metadata": {
        "colab": {
          "base_uri": "https://localhost:8080/"
        },
        "id": "Oyh2IzQuCsWk",
        "outputId": "b6034a01-ac13-477b-c263-1a75484d77d7"
      },
      "execution_count": 48,
      "outputs": [
        {
          "output_type": "stream",
          "name": "stdout",
          "text": [
            "['Enitta', 'Nidhi', 'Parvathy', 'Ridha']\n"
          ]
        }
      ]
    },
    {
      "cell_type": "code",
      "source": [
        "x=['Angel', 'Enitta', 'Nidhi', 'Parvathy', 'Ridha', 'Tia']\n",
        "del x[0:2]\n",
        "print(x)"
      ],
      "metadata": {
        "colab": {
          "base_uri": "https://localhost:8080/"
        },
        "id": "_3VQiCQRDQEr",
        "outputId": "8aa08703-20d8-4692-8b51-17f51cda69fc"
      },
      "execution_count": 50,
      "outputs": [
        {
          "output_type": "stream",
          "name": "stdout",
          "text": [
            "['Nidhi', 'Parvathy', 'Ridha', 'Tia']\n"
          ]
        }
      ]
    },
    {
      "cell_type": "code",
      "source": [],
      "metadata": {
        "id": "GgN8lx60Deqn"
      },
      "execution_count": null,
      "outputs": []
    }
  ]
}